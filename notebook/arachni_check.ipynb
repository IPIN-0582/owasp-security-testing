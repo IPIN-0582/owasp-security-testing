{
 "cells": [
  {
   "cell_type": "code",
   "execution_count": 5,
   "id": "027962e8",
   "metadata": {},
   "outputs": [
    {
     "name": "stdout",
     "output_type": "stream",
     "text": [
      "\n",
      "🔎 Preview benchmark_df:\n",
      "             testcase    category  real_vulnerability  cwe\n",
      "0  BenchmarkTest01025  pathtraver                True   22\n",
      "1  BenchmarkTest01238  pathtraver                True   22\n",
      "2  BenchmarkTest00528  pathtraver                True   22\n",
      "3  BenchmarkTest00783  pathtraver                True   22\n",
      "4  BenchmarkTest02378  pathtraver                True   22\n"
     ]
    }
   ],
   "source": [
    "import pandas as pd\n",
    "import math\n",
    "import matplotlib.pyplot as plt\n",
    "\n",
    "# Load dữ liệu\n",
    "benchmark_df = pd.read_csv('../data/owasp/expected_results_320.csv')\n",
    "arachni_df = pd.read_csv('../data/arachni/arachni_report.csv')\n",
    "\n",
    "# Chuẩn hóa benchmark_df\n",
    "benchmark_df = benchmark_df.rename(columns=lambda x: x.strip())\n",
    "benchmark_df = benchmark_df.rename(columns={'# test name': 'testcase', 'real vulnerability': 'real_vulnerability', 'category': 'category'})\n",
    "benchmark_df['category'] = benchmark_df['category'].str.lower()\n",
    "benchmark_df['testcase'] = benchmark_df['testcase'].str.strip()\n",
    "benchmark_df = benchmark_df.drop(['Benchmark version: 1.2', '2016-06-1'], axis=1)\n",
    "\n",
    "print(\"\\n🔎 Preview benchmark_df:\")\n",
    "print(benchmark_df.head())"
   ]
  },
  {
   "cell_type": "code",
   "execution_count": 6,
   "id": "9c7c6c76",
   "metadata": {},
   "outputs": [
    {
     "name": "stdout",
     "output_type": "stream",
     "text": [
      "\n",
      "🔎 Preview arachni_df:\n",
      "                     File                                                URL  \\\n",
      "0  BenchmarkTest00001.xml  https://192.168.6.149:8443/benchmark/pathtrave...   \n",
      "1  BenchmarkTest00001.xml  https://192.168.6.149:8443/benchmark/pathtrave...   \n",
      "2  BenchmarkTest00001.xml  https://192.168.6.149:8443/benchmark/pathtrave...   \n",
      "3  BenchmarkTest00001.xml  https://192.168.6.149:8443/benchmark/pathtrave...   \n",
      "4  BenchmarkTest00001.xml  https://192.168.6.149:8443/benchmark/pathtrave...   \n",
      "\n",
      "                           Issue       Severity            testcase  \\\n",
      "0  Private IP address disclosure            low  BenchmarkTest00001   \n",
      "1  Private IP address disclosure            low  BenchmarkTest00001   \n",
      "2           Allowed HTTP methods  informational  BenchmarkTest00001   \n",
      "3           Interesting response  informational  BenchmarkTest00001   \n",
      "4                HttpOnly cookie  informational  BenchmarkTest00001   \n",
      "\n",
      "  category_arachni  \n",
      "0              NaN  \n",
      "1              NaN  \n",
      "2              NaN  \n",
      "3              NaN  \n",
      "4     securecookie  \n"
     ]
    }
   ],
   "source": [
    "# Tạo mapping Issue → Category (11 CWE liên quan)\n",
    "issue2category = {\n",
    "    'LDAP Injection': 'ldapi',\n",
    "    'SQL Injection': 'sqli',\n",
    "    'Blind SQL Injection (differential analysis)': 'sqli',\n",
    "    'Cross-Site Scripting (XSS) in script context': 'xss',\n",
    "    'Cross-Site Scripting (XSS)': 'xss',\n",
    "    'Path Traversal': 'pathtraver',\n",
    "    'Operating system command injection': 'cmdi',\n",
    "    'Operating system command injection (timing attack)': 'cmdi',\n",
    "    'HttpOnly cookie': 'securecookie',\n",
    "    'Insecure cookie': 'securecookie'\n",
    "}\n",
    "\n",
    "# Chuẩn hóa testcase và mapping\n",
    "arachni_df['testcase'] = arachni_df['File'].str.replace('.xml', '', regex=False)\n",
    "arachni_df['category_arachni'] = arachni_df['Issue'].map(issue2category)\n",
    "arachni_filtered_df = arachni_df[arachni_df['category_arachni'].notna()]\n",
    "arachni_grouped = arachni_filtered_df.groupby('testcase')['category_arachni'].apply(set).reset_index()\n",
    "\n",
    "print(\"\\n🔎 Preview arachni_df:\")\n",
    "print(arachni_df.head())"
   ]
  },
  {
   "cell_type": "code",
   "execution_count": 7,
   "id": "7b7b752e",
   "metadata": {},
   "outputs": [
    {
     "name": "stdout",
     "output_type": "stream",
     "text": [
      "\n",
      "🔎 Preview merged_df:\n",
      "             testcase    category  real_vulnerability  cwe category_arachni  \\\n",
      "0  BenchmarkTest01025  pathtraver                True   22               {}   \n",
      "1  BenchmarkTest01238  pathtraver                True   22               {}   \n",
      "2  BenchmarkTest00528  pathtraver                True   22               {}   \n",
      "3  BenchmarkTest00783  pathtraver                True   22     {pathtraver}   \n",
      "4  BenchmarkTest02378  pathtraver                True   22               {}   \n",
      "5  BenchmarkTest01496  pathtraver                True   22     {pathtraver}   \n",
      "6  BenchmarkTest02561  pathtraver                True   22     {pathtraver}   \n",
      "7  BenchmarkTest01111  pathtraver                True   22               {}   \n",
      "8  BenchmarkTest00698  pathtraver                True   22               {}   \n",
      "9  BenchmarkTest00216  pathtraver                True   22               {}   \n",
      "\n",
      "  Evaluation  \n",
      "0         FN  \n",
      "1         FN  \n",
      "2         FN  \n",
      "3         TP  \n",
      "4         FN  \n",
      "5         TP  \n",
      "6         TP  \n",
      "7         FN  \n",
      "8         FN  \n",
      "9         FN  \n"
     ]
    }
   ],
   "source": [
    "# Merge\n",
    "merged_df = benchmark_df.merge(arachni_grouped, on='testcase', how='left')\n",
    "merged_df['category_arachni'] = merged_df['category_arachni'].apply(lambda x: x if isinstance(x, set) else set())\n",
    "\n",
    "# Đánh giá\n",
    "def evaluate(row):\n",
    "    category_benchmark = row['category']\n",
    "    category_arachni_set = row['category_arachni']\n",
    "    real_vuln = row['real_vulnerability']\n",
    "    if real_vuln:\n",
    "        if category_benchmark in category_arachni_set:\n",
    "            return 'TP'\n",
    "        else:\n",
    "            return 'FN'\n",
    "    else:\n",
    "        if category_benchmark in category_arachni_set:\n",
    "            return 'FP'\n",
    "        else:\n",
    "            return 'TN'\n",
    "merged_df['Evaluation'] = merged_df.apply(evaluate, axis=1)\n",
    "print(\"\\n🔎 Preview merged_df:\")\n",
    "print(merged_df.head(10))\n"
   ]
  },
  {
   "cell_type": "code",
   "execution_count": 8,
   "id": "58fe8cd5",
   "metadata": {},
   "outputs": [
    {
     "name": "stdout",
     "output_type": "stream",
     "text": [
      "\n",
      "✅ Đã xuất file Arachni chuẩn từ merged_df: arachni_results_format.csv\n",
      "             TestCase         CWE  Expected  Detected\n",
      "0  BenchmarkTest01025  pathtraver      True     False\n",
      "1  BenchmarkTest01238  pathtraver      True     False\n",
      "2  BenchmarkTest00528  pathtraver      True     False\n",
      "3  BenchmarkTest00783  pathtraver      True      True\n",
      "4  BenchmarkTest02378  pathtraver      True     False\n",
      "\n",
      "📊 Summary TP, FP, FN, TN:\n",
      "  Metric  Count\n",
      "0     TP     48\n",
      "1     FP      1\n",
      "2     FN    112\n",
      "3     TN    159\n"
     ]
    }
   ],
   "source": [
    "# Tạo file CSV chuẩn từ merged_df (format chuẩn để so sánh multi-tool)\n",
    "arachni_output_rows = []\n",
    "for _, row in merged_df.iterrows():\n",
    "    testcase = row['testcase']\n",
    "    cwe = row['category']\n",
    "    expected = bool(row['real_vulnerability'])\n",
    "    detected = cwe in row['category_arachni']\n",
    "    arachni_output_rows.append({\n",
    "        'TestCase': testcase,\n",
    "        'CWE': cwe,\n",
    "        'Expected': expected,\n",
    "        'Detected': detected\n",
    "    })\n",
    "\n",
    "arachni_output_df = pd.DataFrame(arachni_output_rows)\n",
    "\n",
    "# Lưu file CSV chuẩn (cho Arachni)\n",
    "arachni_output_df.to_csv('../data/arachni/arachni_results_format.csv', index=False)\n",
    "print(\"\\n✅ Đã xuất file Arachni chuẩn từ merged_df: arachni_results_format.csv\")\n",
    "print(arachni_output_df.head())\n",
    "\n",
    "# Tính tổng TP/FP/FN/TN\n",
    "summary = merged_df['Evaluation'].value_counts().reindex(['TP', 'FP', 'FN', 'TN'], fill_value=0).reset_index()\n",
    "summary.columns = ['Metric', 'Count']\n",
    "\n",
    "print(\"\\n📊 Summary TP, FP, FN, TN:\")\n",
    "print(summary)"
   ]
  },
  {
   "cell_type": "code",
   "execution_count": 9,
   "id": "1f04375f",
   "metadata": {},
   "outputs": [
    {
     "name": "stdout",
     "output_type": "stream",
     "text": [
      "\n",
      "=== KẾT QUẢ ===\n",
      "Rec: 0.3000\n",
      "FPR: 0.0063\n",
      "Prec: 0.9796\n",
      "F-Mes: 0.4593\n",
      "F0.5: 0.6742\n",
      "F1.5: 0.3814\n",
      "Mark: 0.4079\n",
      "Inf: 0.2938\n"
     ]
    }
   ],
   "source": [
    "TP = summary.loc[summary['Metric'] == 'TP', 'Count'].values[0]\n",
    "FP = summary.loc[summary['Metric'] == 'FP', 'Count'].values[0]\n",
    "FN = summary.loc[summary['Metric'] == 'FN', 'Count'].values[0]\n",
    "TN = summary.loc[summary['Metric'] == 'TN', 'Count'].values[0]\n",
    "\n",
    "# Tính các chỉ số\n",
    "def metrics_paper(tp, fp, fn, tn):\n",
    "    rec = tp / (tp + fn) if tp + fn else 0.0\n",
    "    prec = tp / (tp + fp) if tp + fp else 0.0\n",
    "    fpr = fp / (tn + fp) if tn + fp else 0.0\n",
    "\n",
    "    # F–scores (β = 1, 0.5, 1.5)\n",
    "    fbeta = lambda b: (1 + b**2) * prec * rec / (b**2 * prec + rec) if (prec + rec) else 0.0\n",
    "    f1, f05, f15 = fbeta(1), fbeta(0.5), fbeta(1.5)\n",
    "\n",
    "    # Markedness (TPR+TNR centered)\n",
    "    denom_mark = math.sqrt((tp+fp)*(tp+fn)*(tn+fp)*(tn+fn))\n",
    "    mark = ((tp * tn) - (fp * fn)) / denom_mark if denom_mark else 0.0\n",
    "    \n",
    "    # Informedness (Youden J)\n",
    "    inf = rec - fpr\n",
    "\n",
    "    results = {\n",
    "        \"Rec\":  rec,\n",
    "        \"FPR\":  fpr,\n",
    "        \"Prec\": prec,\n",
    "        \"F-Mes\": f1,\n",
    "        \"F0.5\": f05,\n",
    "        \"F1.5\": f15,\n",
    "        \"Mark\": mark,\n",
    "        \"Inf\":  inf,\n",
    "    }\n",
    "\n",
    "    print(\"\\n=== KẾT QUẢ ===\")\n",
    "    for metric, value in results.items():\n",
    "        print(f\"{metric}: {value:.4f}\")\n",
    "\n",
    "    return results\n",
    "\n",
    "metrics = metrics_paper(TP, FP, FN, TN)"
   ]
  },
  {
   "cell_type": "code",
   "execution_count": 10,
   "id": "c306ed57",
   "metadata": {},
   "outputs": [
    {
     "data": {
      "image/png": "[encoded data removed]",
      "text/plain": [
       "<Figure size 1000x500 with 1 Axes>"
      ]
     },
     "metadata": {},
     "output_type": "display_data"
    }
   ],
   "source": [
    "# Vẽ biểu đồ\n",
    "labels, values = list(metrics.keys()), list(metrics.values())\n",
    "fig, ax = plt.subplots(figsize=(10, 5))\n",
    "bars = ax.bar(labels, values, color='skyblue')\n",
    "for bar in bars:\n",
    "    height = bar.get_height()\n",
    "    ax.annotate(f'{height:.2f}', xy=(bar.get_x() + bar.get_width() / 2, height),\n",
    "                xytext=(0, 3), textcoords=\"offset points\", ha='center', va='bottom')\n",
    "ax.set_ylim(0, 1.1)\n",
    "ax.set_ylabel('Giá trị')\n",
    "ax.set_title('Biểu đồ các chỉ số đánh giá (ARACHNI-DAST)')\n",
    "plt.tight_layout()\n",
    "plt.show()"
   ]
  }
 ],
 "metadata": {
  "kernelspec": {
   "display_name": "Python 3",
   "language": "python",
   "name": "python3"
  },
  "language_info": {
   "codemirror_mode": {
    "name": "ipython",
    "version": 3
   },
   "file_extension": ".py",
   "mimetype": "text/x-python",
   "name": "python",
   "nbconvert_exporter": "python",
   "pygments_lexer": "ipython3",
   "version": "3.12.4"
  }
 },
 "nbformat": 4,
 "nbformat_minor": 5
}
