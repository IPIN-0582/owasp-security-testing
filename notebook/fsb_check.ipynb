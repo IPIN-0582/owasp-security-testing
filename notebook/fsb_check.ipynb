{
 "cells": [
  {
   "cell_type": "code",
   "execution_count": 1,
   "id": "581bb39f",
   "metadata": {},
   "outputs": [
    {
     "name": "stdout",
     "output_type": "stream",
     "text": [
      "\n",
      "🔎 Preview benchmark_df:\n",
      "            test name    category  real vulnerability  cwe\n",
      "0  BenchmarkTest01025  pathtraver                True   22\n",
      "1  BenchmarkTest01238  pathtraver                True   22\n",
      "2  BenchmarkTest00528  pathtraver                True   22\n",
      "3  BenchmarkTest00783  pathtraver                True   22\n",
      "4  BenchmarkTest02378  pathtraver                True   22\n"
     ]
    }
   ],
   "source": [
    "import pandas as pd\n",
    "import numpy as np\n",
    "import math\n",
    "\n",
    "# Đọc file benchmark và FSB result\n",
    "benchmark_df = pd.read_csv('../data/owasp/expected_results_320.csv')\n",
    "fsb_df = pd.read_csv('../data/fsb/fsb_report.csv')\n",
    "\n",
    "# Chuẩn hoá tên cột benchmark\n",
    "benchmark_df = benchmark_df.rename(columns={\n",
    "    '# test name': 'test name',\n",
    "    ' category': 'category',\n",
    "    ' real vulnerability': 'real vulnerability'\n",
    "})\n",
    "benchmark_df['category'] = benchmark_df['category'].str.lower()\n",
    "benchmark_df = benchmark_df.drop(['Benchmark version: 1.2', '2016-06-1'], axis=1)\n",
    "\n",
    "print(\"\\n🔎 Preview benchmark_df:\")\n",
    "print(benchmark_df.head())"
   ]
  },
  {
   "cell_type": "code",
   "execution_count": 4,
   "id": "d54755ec",
   "metadata": {},
   "outputs": [
    {
     "name": "stdout",
     "output_type": "stream",
     "text": [
      "\n",
      "🔎 Preview fsb_df (đã lọc chỉ testcase và 11 CWE):\n",
      "              testcase            bug_type  category_fsb\n",
      "45  BenchmarkTest00001     HTTPONLY_COOKIE  securecookie\n",
      "46  BenchmarkTest00001   PATH_TRAVERSAL_IN    pathtraver\n",
      "49  BenchmarkTest00002     HTTPONLY_COOKIE  securecookie\n",
      "50  BenchmarkTest00002  PATH_TRAVERSAL_OUT    pathtraver\n",
      "53  BenchmarkTest00003     HTTPONLY_COOKIE  securecookie\n"
     ]
    }
   ],
   "source": [
    "# Ánh xạ bug_type sang category theo CWE\n",
    "bug2cwe = {\n",
    "    \"COMMAND_INJECTION\": \"cmdi\",\n",
    "    \"SPRING_ENDPOINT\": \"cmdi\",\n",
    "    \"XPATH_INJECTION\": \"xpath\",\n",
    "    \"XSS_SERVLET\": \"xss\",\n",
    "    \"XSS_JSP_PRINT\": \"xss\",\n",
    "    \"LDAP_INJECTION\": \"ldapi\",\n",
    "    \"PATH_TRAVERSAL_IN\": \"pathtraver\",\n",
    "    \"PATH_TRAVERSAL_OUT\": \"pathtraver\",\n",
    "    \"SQL_INJECTION\": \"sqli\",\n",
    "    \"SQL_INJECTION_JDBC\": \"sqli\",\n",
    "    \"SQL_INJECTION_JPA\": \"sqli\",\n",
    "    \"SQL_INJECTION_JDO\": \"sqli\",\n",
    "    \"SQL_INJECTION_HIBERNATE\": \"sqli\",\n",
    "    \"SQL_INJECTION_SPRING_JDBC\": \"sqli\",\n",
    "    \"SQL_INJECTION_TURBINE\": \"sqli\",\n",
    "    \"SQL_INJECTION_VERTX\": \"sqli\",\n",
    "    \"SQL_INJECTION_ANDROID\": \"sqli\",\n",
    "    \"SQL_NONCONSTANT_STRING_PASSED_TO_EXECUTE\": \"sqli\",\n",
    "    \"SQL_PREPARED_STATEMENT_GENERATED_FROM_NONCONSTANT_STRING\": \"sqli\",\n",
    "    \"INSECURE_COOKIE\": \"securecookie\",\n",
    "    \"HTTPONLY_COOKIE\": \"securecookie\",\n",
    "    \"TRUST_BOUNDARY_VIOLATION\": \"trustbound\",\n",
    "    \"PREDICTABLE_RANDOM\": \"weakrand\",\n",
    "    \"DES_USAGE\": \"crypto\",\n",
    "    \"TDES_USAGE\": \"crypto\",\n",
    "    \"ECB_MODE\": \"crypto\",\n",
    "    \"CIPHER_INTEGRITY\": \"crypto\",\n",
    "    \"WEAK_MESSAGE_DIGEST_MD5\": \"hash\",\n",
    "    \"WEAK_MESSAGE_DIGEST_SHA1\": \"hash\",\n",
    "}\n",
    "\n",
    "# Tách testcase từ source_path trong FSB\n",
    "fsb_df['testcase'] = fsb_df['source_path'].str.extract(r'(BenchmarkTest\\d{5})')\n",
    "\n",
    "# Ánh xạ bug_type sang category_fsb\n",
    "fsb_df['category_fsb'] = fsb_df['bug_type'].map(bug2cwe)\n",
    "\n",
    "# 🌿 Lọc bỏ các dòng không có testcase (cảnh báo ngoài benchmark)\n",
    "fsb_df = fsb_df[fsb_df['testcase'].notna()]\n",
    "\n",
    "# 🌿 Lọc bỏ các bug_type không nằm trong bug2cwe (không thuộc 11 CWE)\n",
    "fsb_df = fsb_df[fsb_df['category_fsb'].notna()]\n",
    "\n",
    "print(\"\\n🔎 Preview fsb_df (đã lọc chỉ testcase và 11 CWE):\")\n",
    "print(fsb_df[['testcase', 'bug_type', 'category_fsb']].head())\n",
    "\n",
    "# Gom các category FSB theo testcase\n",
    "fsb_grouped = fsb_df.groupby('testcase')['category_fsb'].apply(set).reset_index()"
   ]
  },
  {
   "cell_type": "code",
   "execution_count": 5,
   "id": "9409eb42",
   "metadata": {},
   "outputs": [
    {
     "name": "stdout",
     "output_type": "stream",
     "text": [
      "\n",
      "🔎 Preview merged_df:\n",
      "            test name    category  real vulnerability  category_fsb\n",
      "0  BenchmarkTest01025  pathtraver                True  {pathtraver}\n",
      "1  BenchmarkTest01238  pathtraver                True  {pathtraver}\n",
      "2  BenchmarkTest00528  pathtraver                True  {pathtraver}\n",
      "3  BenchmarkTest00783  pathtraver                True  {pathtraver}\n",
      "4  BenchmarkTest02378  pathtraver                True  {pathtraver}\n",
      "\n",
      "🔎 Preview merged_df with Evaluation:\n",
      "            test name    category  real vulnerability  category_fsb Evaluation\n",
      "0  BenchmarkTest01025  pathtraver                True  {pathtraver}         TP\n",
      "1  BenchmarkTest01238  pathtraver                True  {pathtraver}         TP\n",
      "2  BenchmarkTest00528  pathtraver                True  {pathtraver}         TP\n",
      "3  BenchmarkTest00783  pathtraver                True  {pathtraver}         TP\n",
      "4  BenchmarkTest02378  pathtraver                True  {pathtraver}         TP\n"
     ]
    }
   ],
   "source": [
    "# Merge benchmark và FSB\n",
    "merged_df = benchmark_df.merge(fsb_grouped, left_on='test name', right_on='testcase', how='left')\n",
    "merged_df['category_fsb'] = merged_df['category_fsb'].apply(lambda x: x if isinstance(x, set) else set())\n",
    "\n",
    "print(\"\\n🔎 Preview merged_df:\")\n",
    "print(merged_df[['test name', 'category', 'real vulnerability', 'category_fsb']].head())\n",
    "\n",
    "# Đánh giá TP, FP, FN, TN\n",
    "def evaluate(row):\n",
    "    category_benchmark = row['category']\n",
    "    category_fsb_set = row['category_fsb']\n",
    "    real_vuln = row['real vulnerability']\n",
    "\n",
    "    if real_vuln:  # Benchmark có lỗi\n",
    "        if category_benchmark in category_fsb_set: \n",
    "            return 'TP' # FSB báo CWE đúng category benchmark\n",
    "        else:\n",
    "            return 'FN' # FSB không báo category benchmark\n",
    "    else:  # Benchmark không có lỗi\n",
    "        if category_benchmark in category_fsb_set:\n",
    "            return 'FP'  # FSB báo CWE đúng category benchmark\n",
    "        else:\n",
    "            return 'TN'  # FSB không báo category benchmark\n",
    "\n",
    "merged_df['Evaluation'] = merged_df.apply(evaluate, axis=1)\n",
    "print(\"\\n🔎 Preview merged_df with Evaluation:\")\n",
    "print(merged_df[['test name', 'category', 'real vulnerability', 'category_fsb', 'Evaluation']].head())\n"
   ]
  },
  {
   "cell_type": "code",
   "execution_count": 6,
   "id": "45213e87",
   "metadata": {},
   "outputs": [
    {
     "name": "stdout",
     "output_type": "stream",
     "text": [
      "\n",
      "✅ Đã xuất file FSB chuẩn từ merged_df\n",
      "             TestCase         CWE  Expected  Detected\n",
      "0  BenchmarkTest01025  pathtraver      True      True\n",
      "1  BenchmarkTest01238  pathtraver      True      True\n",
      "2  BenchmarkTest00528  pathtraver      True      True\n",
      "3  BenchmarkTest00783  pathtraver      True      True\n",
      "4  BenchmarkTest02378  pathtraver      True      True\n"
     ]
    }
   ],
   "source": [
    "# 🌿 Tạo file CSV chuẩn từ merged_df (format chuẩn để so sánh multi-tool)\n",
    "fsb_output_rows = []\n",
    "for _, row in merged_df.iterrows():\n",
    "    testcase = row['test name']\n",
    "    cwe = row['category']\n",
    "    expected = bool(row['real vulnerability'])\n",
    "    detected = cwe in row['category_fsb']\n",
    "    fsb_output_rows.append({\n",
    "        'TestCase': testcase,\n",
    "        'CWE': cwe,\n",
    "        'Expected': expected,\n",
    "        'Detected': detected\n",
    "    })\n",
    "\n",
    "fsb_output_df = pd.DataFrame(fsb_output_rows)\n",
    "\n",
    "# Lưu file CSV chuẩn (chuẩn format cho multi-tool)\n",
    "fsb_output_df.to_csv('../data/fsb/fsb_results_format.csv', index=False)\n",
    "print(f\"\\n✅ Đã xuất file FSB chuẩn từ merged_df\")\n",
    "print(fsb_output_df.head())"
   ]
  },
  {
   "cell_type": "code",
   "execution_count": 7,
   "id": "da936267",
   "metadata": {},
   "outputs": [
    {
     "name": "stdout",
     "output_type": "stream",
     "text": [
      "\n",
      "📊 Summary TP, FP, FN, TN:\n",
      "  Metric  Count\n",
      "0     TP    147\n",
      "1     FP     84\n",
      "2     TN     76\n",
      "3     FN     13\n"
     ]
    }
   ],
   "source": [
    "# Tạo bảng tổng hợp\n",
    "summary = merged_df['Evaluation'].value_counts().reset_index()\n",
    "summary.columns = ['Metric', 'Count']\n",
    "print(\"\\n📊 Summary TP, FP, FN, TN:\")\n",
    "print(summary)"
   ]
  },
  {
   "cell_type": "code",
   "execution_count": 8,
   "id": "f4e4e42d",
   "metadata": {},
   "outputs": [
    {
     "name": "stdout",
     "output_type": "stream",
     "text": [
      "\n",
      "=== KẾT QUẢ ===\n",
      "Rec: 0.9187\n",
      "FPR: 0.5250\n",
      "Prec: 0.6364\n",
      "F-Mes: 0.7519\n",
      "F0.5: 0.6780\n",
      "F1.5: 0.8084\n",
      "Mark: 0.4394\n",
      "Inf: 0.3937\n"
     ]
    }
   ],
   "source": [
    "# Tính precision, recall, f1-score\n",
    "TP = summary.loc[summary['Metric'] == 'TP', 'Count'].values[0] if 'TP' in summary['Metric'].values else 0\n",
    "FP = summary.loc[summary['Metric'] == 'FP', 'Count'].values[0] if 'FP' in summary['Metric'].values else 0\n",
    "FN = summary.loc[summary['Metric'] == 'FN', 'Count'].values[0] if 'FN' in summary['Metric'].values else 0\n",
    "TN = summary.loc[summary['Metric'] == 'TN', 'Count'].values[0] if 'TN' in summary['Metric'].values else 0\n",
    "\n",
    "def metrics_paper(tp: int, fp: int, fn: int, tn: int) -> None:\n",
    "    rec  = tp / (tp + fn) if tp + fn else 0.0\n",
    "    prec = tp / (tp + fp) if tp + fp else 0.0\n",
    "    fpr  = fp / (tn + fp) if tn + fp else 0.0\n",
    "\n",
    "    # F–scores (β = 1, 0.5, 1.5)\n",
    "    def fbeta(beta: float) -> float:\n",
    "        b2 = beta * beta\n",
    "        return (1 + b2) * prec * rec / (b2 * prec + rec) if (prec + rec) else 0.0\n",
    "\n",
    "    f1   = fbeta(1)\n",
    "    f05  = fbeta(0.5)\n",
    "    f15  = fbeta(1.5)\n",
    "\n",
    "    # Markedness (TPR+TNR centered)\n",
    "    denom_mark = math.sqrt((tp+fp)*(tp+fn)*(tn+fp)*(tn+fn))\n",
    "    mark = ((tp * tn) - (fp * fn)) / denom_mark if denom_mark else 0.0\n",
    "\n",
    "    # Informedness (Youden J)\n",
    "    inf  = rec - fpr\n",
    "\n",
    "    results = {\n",
    "        \"Rec\":  rec,\n",
    "        \"FPR\":  fpr,\n",
    "        \"Prec\": prec,\n",
    "        \"F-Mes\": f1,\n",
    "        \"F0.5\": f05,\n",
    "        \"F1.5\": f15,\n",
    "        \"Mark\": mark,\n",
    "        \"Inf\":  inf,\n",
    "    }\n",
    "\n",
    "    print(\"\\n=== KẾT QUẢ ===\")\n",
    "    for metric, value in results.items():\n",
    "        print(f\"{metric}: {value:.4f}\")\n",
    "\n",
    "    return results\n",
    "\n",
    "# Gọi hàm với TP, FP, FN, TN của bạn\n",
    "metrics = metrics_paper(TP, FP, FN, TN)"
   ]
  },
  {
   "cell_type": "code",
   "execution_count": 9,
   "id": "94be0cdc",
   "metadata": {},
   "outputs": [
    {
     "data": {
      "image/png": "[encoded data removed]",
      "text/plain": [
       "<Figure size 1000x500 with 1 Axes>"
      ]
     },
     "metadata": {},
     "output_type": "display_data"
    }
   ],
   "source": [
    "import matplotlib.pyplot as plt\n",
    "\n",
    "# Chuẩn bị dữ liệu\n",
    "labels = list(metrics.keys())\n",
    "values = list(metrics.values())\n",
    "\n",
    "# Vẽ biểu đồ cột\n",
    "fig, ax = plt.subplots(figsize=(10, 5))\n",
    "bars = ax.bar(labels, values, color='skyblue')\n",
    "\n",
    "# Thêm nhãn giá trị trên đầu mỗi cột\n",
    "for bar in bars:\n",
    "    height = bar.get_height()\n",
    "    ax.annotate(f'{height:.2f}',\n",
    "                xy=(bar.get_x() + bar.get_width() / 2, height),\n",
    "                xytext=(0, 3),  # khoảng cách lên trên\n",
    "                textcoords=\"offset points\",\n",
    "                ha='center', va='bottom')\n",
    "\n",
    "# Cài đặt hiển thị\n",
    "ax.set_ylim(0, 1.1)\n",
    "ax.set_ylabel('Giá trị')\n",
    "ax.set_title('Biểu đồ các chỉ số đánh giá (FindSecBug-SAST)')\n",
    "plt.xticks()\n",
    "plt.tight_layout()\n",
    "plt.show()"
   ]
  }
 ],
 "metadata": {
  "kernelspec": {
   "display_name": "Python 3",
   "language": "python",
   "name": "python3"
  },
  "language_info": {
   "codemirror_mode": {
    "name": "ipython",
    "version": 3
   },
   "file_extension": ".py",
   "mimetype": "text/x-python",
   "name": "python",
   "nbconvert_exporter": "python",
   "pygments_lexer": "ipython3",
   "version": "3.12.4"
  }
 },
 "nbformat": 4,
 "nbformat_minor": 5
}
