{
 "cells": [
  {
   "cell_type": "code",
   "execution_count": 1,
   "id": "b99f054b",
   "metadata": {},
   "outputs": [
    {
     "name": "stdout",
     "output_type": "stream",
     "text": [
      "\n",
      "🔎 Preview df_bench:\n",
      "             testcase    category  real_vulnerability  cwe\n",
      "0  BenchmarkTest01025  pathtraver                True   22\n",
      "1  BenchmarkTest01238  pathtraver                True   22\n",
      "2  BenchmarkTest00528  pathtraver                True   22\n",
      "3  BenchmarkTest00783  pathtraver                True   22\n",
      "4  BenchmarkTest02378  pathtraver                True   22\n"
     ]
    }
   ],
   "source": [
    "import pandas as pd\n",
    "import matplotlib.pyplot as plt\n",
    "import math\n",
    "\n",
    "# Đọc dữ liệu benchmark và ZAP\n",
    "benchmark_df = pd.read_csv('../data/owasp/expected_results_320.csv')\n",
    "zap_df = pd.read_csv('../data/zap/zap_report.csv')\n",
    "\n",
    "# Chuẩn hóa cột benchmark\n",
    "df_bench = benchmark_df.rename(columns=lambda x: x.strip())\n",
    "df_bench = df_bench.rename(columns={'# test name': 'testcase', 'real vulnerability': 'real_vulnerability', 'category': 'category'})\n",
    "df_bench['category'] = df_bench['category'].str.lower()\n",
    "df_bench['testcase'] = df_bench['testcase'].str.strip()\n",
    "df_bench = df_bench.drop(['Benchmark version: 1.2', '2016-06-1'], axis=1)\n",
    "\n",
    "print(\"\\n🔎 Preview df_bench:\")\n",
    "print(df_bench.head())"
   ]
  },
  {
   "cell_type": "code",
   "execution_count": 2,
   "id": "ee7e347d",
   "metadata": {},
   "outputs": [
    {
     "name": "stdout",
     "output_type": "stream",
     "text": [
      "\n",
      "🔎 Preview zap_df:\n",
      "   pluginid                             alert  riskcode       riskdesc  \\\n",
      "0     40012  Cross Site Scripting (Reflected)         3  High (Medium)   \n",
      "1     40012  Cross Site Scripting (Reflected)         3  High (Medium)   \n",
      "2     40012  Cross Site Scripting (Reflected)         3  High (Medium)   \n",
      "3     40012  Cross Site Scripting (Reflected)         3  High (Medium)   \n",
      "4     40012  Cross Site Scripting (Reflected)         3  High (Medium)   \n",
      "\n",
      "                                                 uri method  \\\n",
      "0  https://localhost:8443/benchmark/pathtraver-01...    GET   \n",
      "1  https://localhost:8443/benchmark/pathtraver-03...    GET   \n",
      "2  https://localhost:8443/benchmark/xss-00/Benchm...    GET   \n",
      "3  https://localhost:8443/benchmark/xss-00/Benchm...    GET   \n",
      "4  https://localhost:8443/benchmark/xss-00/Benchm...    GET   \n",
      "\n",
      "                param                        attack  \\\n",
      "0  BenchmarkTest01643  ＜img src=x onerror=prompt()＞   \n",
      "1  BenchmarkTest02559  ＜img src=x onerror=prompt()＞   \n",
      "2  BenchmarkTest00041    <scrIpt>alert(1);</scRipt>   \n",
      "3  BenchmarkTest00047    <scrIpt>alert(1);</scRipt>   \n",
      "4  BenchmarkTest00048    <scrIpt>alert(1);</scRipt>   \n",
      "\n",
      "                       evidence category_zap            testcase  \n",
      "0  ＜img src=x onerror=prompt()＞          xss  BenchmarkTest01643  \n",
      "1  ＜img src=x onerror=prompt()＞          xss  BenchmarkTest02559  \n",
      "2    <scrIpt>alert(1);</scRipt>          xss  BenchmarkTest00041  \n",
      "3    <scrIpt>alert(1);</scRipt>          xss  BenchmarkTest00047  \n",
      "4    <scrIpt>alert(1);</scRipt>          xss  BenchmarkTest00048  \n"
     ]
    }
   ],
   "source": [
    "# Mapping alert ZAP sang category benchmark\n",
    "alert2cwe = {\n",
    "    'Cross Site Scripting (Reflected)': 'xss',\n",
    "    'Path Traversal': 'pathtraver',\n",
    "    'Remote OS Command Injection': 'cmdi',\n",
    "    'SQL Injection': 'sqli',\n",
    "    'SQL Injection - Hypersonic SQL': 'sqli',\n",
    "    'SQL Injection - SQLite': 'sqli',\n",
    "    'XSLT Injection': 'xpathi'\n",
    "}\n",
    "\n",
    "zap_df['category_zap'] = zap_df['alert'].map(alert2cwe)\n",
    "zap_df['testcase'] = zap_df['param']\n",
    "zap_df_filtered = zap_df[zap_df['category_zap'].notna()]\n",
    "zap_grouped = zap_df_filtered.groupby('testcase')['category_zap'].apply(set).reset_index()\n",
    "\n",
    "print(\"\\n🔎 Preview zap_df:\")\n",
    "print(zap_df.head())"
   ]
  },
  {
   "cell_type": "code",
   "execution_count": 3,
   "id": "4fee4513",
   "metadata": {},
   "outputs": [
    {
     "name": "stdout",
     "output_type": "stream",
     "text": [
      "\n",
      "🔎 Preview merged_df:\n",
      "             testcase    category  real_vulnerability  cwe category_zap  \\\n",
      "0  BenchmarkTest01025  pathtraver                True   22           {}   \n",
      "1  BenchmarkTest01238  pathtraver                True   22           {}   \n",
      "2  BenchmarkTest00528  pathtraver                True   22           {}   \n",
      "3  BenchmarkTest00783  pathtraver                True   22       {sqli}   \n",
      "4  BenchmarkTest02378  pathtraver                True   22           {}   \n",
      "5  BenchmarkTest01496  pathtraver                True   22           {}   \n",
      "6  BenchmarkTest02561  pathtraver                True   22           {}   \n",
      "7  BenchmarkTest01111  pathtraver                True   22           {}   \n",
      "8  BenchmarkTest00698  pathtraver                True   22           {}   \n",
      "9  BenchmarkTest00216  pathtraver                True   22           {}   \n",
      "\n",
      "  Evaluation  \n",
      "0         FN  \n",
      "1         FN  \n",
      "2         FN  \n",
      "3         FN  \n",
      "4         FN  \n",
      "5         FN  \n",
      "6         FN  \n",
      "7         FN  \n",
      "8         FN  \n",
      "9         FN  \n"
     ]
    }
   ],
   "source": [
    "# Merge với benchmark\n",
    "merged_df = df_bench.merge(zap_grouped, on='testcase', how='left')\n",
    "merged_df['category_zap'] = merged_df['category_zap'].apply(lambda x: x if isinstance(x, set) else set())\n",
    "\n",
    "# Đánh giá TP, FP, FN, TN\n",
    "def evaluate(row):\n",
    "    category_benchmark = row['category']\n",
    "    category_zap_set = row['category_zap']\n",
    "    real_vuln = row['real_vulnerability']\n",
    "\n",
    "    if real_vuln:  # Benchmark có lỗi\n",
    "        if category_benchmark in category_zap_set: \n",
    "            return 'TP' # FSB báo CWE đúng category benchmark\n",
    "        else:\n",
    "            return 'FN' # FSB không báo category benchmark\n",
    "    else:  # Benchmark không có lỗi\n",
    "        if category_benchmark in category_zap_set:\n",
    "            return 'FP'  # FSB báo CWE đúng category benchmark\n",
    "        else:\n",
    "            return 'TN'  # FSB không báo category benchmark \n",
    "\n",
    "merged_df['Evaluation'] = merged_df.apply(evaluate, axis=1)\n",
    "print(\"\\n🔎 Preview merged_df:\")\n",
    "print(merged_df.head(10))"
   ]
  },
  {
   "cell_type": "code",
   "execution_count": 4,
   "id": "67229e8f",
   "metadata": {},
   "outputs": [
    {
     "name": "stdout",
     "output_type": "stream",
     "text": [
      "\n",
      "✅ Đã xuất file ZAP chuẩn từ merged_df\n",
      "             TestCase         CWE  Expected  Detected\n",
      "0  BenchmarkTest01025  pathtraver      True     False\n",
      "1  BenchmarkTest01238  pathtraver      True     False\n",
      "2  BenchmarkTest00528  pathtraver      True     False\n",
      "3  BenchmarkTest00783  pathtraver      True     False\n",
      "4  BenchmarkTest02378  pathtraver      True     False\n",
      "\n",
      "📊 Summary TP, FP, FN, TN:\n",
      "  Metric  Count\n",
      "0     TP     34\n",
      "1     FP      0\n",
      "2     FN    126\n",
      "3     TN    160\n"
     ]
    }
   ],
   "source": [
    "# 🌿 Tạo file CSV chuẩn từ merged_df (format chuẩn để so sánh multi-tool)\n",
    "zap_output_rows = []\n",
    "for _, row in merged_df.iterrows():\n",
    "    testcase = row['testcase']\n",
    "    cwe = row['category']\n",
    "    expected = bool(row['real_vulnerability'])\n",
    "    detected = cwe in row['category_zap']\n",
    "    zap_output_rows.append({\n",
    "        'TestCase': testcase,\n",
    "        'CWE': cwe,\n",
    "        'Expected': expected,\n",
    "        'Detected': detected\n",
    "    })\n",
    "\n",
    "zap_output_df = pd.DataFrame(zap_output_rows)\n",
    "\n",
    "# Lưu file CSV chuẩn (cho ZAP)\n",
    "zap_output_df.to_csv('../data/zap/zap_results_format.csv', index=False)\n",
    "print(f\"\\n✅ Đã xuất file ZAP chuẩn từ merged_df\")\n",
    "print(zap_output_df.head())\n",
    "\n",
    "# Tính tổng TP, FP, FN, TN\n",
    "summary = merged_df['Evaluation'].value_counts().reindex(['TP', 'FP', 'FN', 'TN'], fill_value=0).reset_index()\n",
    "summary.columns = ['Metric', 'Count']\n",
    "print(\"\\n📊 Summary TP, FP, FN, TN:\")\n",
    "print(summary)"
   ]
  },
  {
   "cell_type": "code",
   "execution_count": 5,
   "id": "babe4937",
   "metadata": {},
   "outputs": [
    {
     "name": "stdout",
     "output_type": "stream",
     "text": [
      "\n",
      "=== KẾT QUẢ ===\n",
      "Rec: 0.2125\n",
      "FPR: 0.0000\n",
      "Prec: 1.0000\n",
      "F-Mes: 0.3505\n",
      "F0.5: 0.5743\n",
      "F1.5: 0.2805\n",
      "Mark: 0.3448\n",
      "Inf: 0.2125\n"
     ]
    }
   ],
   "source": [
    "TP = summary.loc[summary['Metric'] == 'TP', 'Count'].values[0] if 'TP' in summary['Metric'].values else 0\n",
    "FP = summary.loc[summary['Metric'] == 'FP', 'Count'].values[0] if 'FP' in summary['Metric'].values else 0\n",
    "FN = summary.loc[summary['Metric'] == 'FN', 'Count'].values[0] if 'FN' in summary['Metric'].values else 0\n",
    "TN = summary.loc[summary['Metric'] == 'TN', 'Count'].values[0] if 'TN' in summary['Metric'].values else 0\n",
    "\n",
    "# Tính các chỉ số\n",
    "def metrics_paper(tp, fp, fn, tn):\n",
    "    rec = tp / (tp + fn) if tp + fn else 0.0\n",
    "    prec = tp / (tp + fp) if tp + fp else 0.0\n",
    "    fpr = fp / (tn + fp) if tn + fp else 0.0\n",
    "\n",
    "    # F–scores (β = 1, 0.5, 1.5)\n",
    "    fbeta = lambda b: (1 + b**2) * prec * rec / (b**2 * prec + rec) if (prec + rec) else 0.0\n",
    "    f1, f05, f15 = fbeta(1), fbeta(0.5), fbeta(1.5)\n",
    "\n",
    "    # Markedness (TPR+TNR centered)\n",
    "    denom_mark = math.sqrt((tp+fp)*(tp+fn)*(tn+fp)*(tn+fn))\n",
    "    mark = ((tp * tn) - (fp * fn)) / denom_mark if denom_mark else 0.0\n",
    "    \n",
    "    # Informedness (Youden J)\n",
    "    inf = rec - fpr\n",
    "\n",
    "    results = {\n",
    "        \"Rec\":  rec,\n",
    "        \"FPR\":  fpr,\n",
    "        \"Prec\": prec,\n",
    "        \"F-Mes\": f1,\n",
    "        \"F0.5\": f05,\n",
    "        \"F1.5\": f15,\n",
    "        \"Mark\": mark,\n",
    "        \"Inf\":  inf,\n",
    "    }\n",
    "\n",
    "    print(\"\\n=== KẾT QUẢ ===\")\n",
    "    for metric, value in results.items():\n",
    "        print(f\"{metric}: {value:.4f}\")\n",
    "\n",
    "    return results\n",
    "\n",
    "metrics = metrics_paper(TP, FP, FN, TN)"
   ]
  },
  {
   "cell_type": "code",
   "execution_count": 6,
   "id": "20a079ab",
   "metadata": {},
   "outputs": [
    {
     "data": {
      "image/png": "[encoded data removed]",
      "text/plain": [
       "<Figure size 1000x500 with 1 Axes>"
      ]
     },
     "metadata": {},
     "output_type": "display_data"
    }
   ],
   "source": [
    "# Vẽ biểu đồ\n",
    "labels, values = list(metrics.keys()), list(metrics.values())\n",
    "fig, ax = plt.subplots(figsize=(10, 5))\n",
    "bars = ax.bar(labels, values, color='skyblue')\n",
    "for bar in bars:\n",
    "    height = bar.get_height()\n",
    "    ax.annotate(f'{height:.2f}', xy=(bar.get_x() + bar.get_width() / 2, height),\n",
    "                xytext=(0, 3), textcoords=\"offset points\", ha='center', va='bottom')\n",
    "ax.set_ylim(0, 1.1)\n",
    "ax.set_ylabel('Giá trị')\n",
    "ax.set_title('Biểu đồ các chỉ số đánh giá (ZAP-DAST)')\n",
    "plt.tight_layout()\n",
    "plt.show()\n"
   ]
  }
 ],
 "metadata": {
  "kernelspec": {
   "display_name": "Python 3",
   "language": "python",
   "name": "python3"
  },
  "language_info": {
   "codemirror_mode": {
    "name": "ipython",
    "version": 3
   },
   "file_extension": ".py",
   "mimetype": "text/x-python",
   "name": "python",
   "nbconvert_exporter": "python",
   "pygments_lexer": "ipython3",
   "version": "3.12.4"
  }
 },
 "nbformat": 4,
 "nbformat_minor": 5
}
